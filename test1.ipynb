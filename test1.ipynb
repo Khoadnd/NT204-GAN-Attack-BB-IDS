{
 "cells": [
  {
   "cell_type": "code",
   "execution_count": 1,
   "metadata": {
    "collapsed": true
   },
   "outputs": [],
   "source": [
    "import pandas as pd\n",
    "from sklearn.pipeline import make_pipeline\n",
    "from sklearn.preprocessing import StandardScaler, OneHotEncoder\n",
    "from sklearn.ensemble import RandomForestClassifier"
   ]
  },
  {
   "cell_type": "code",
   "execution_count": 2,
   "outputs": [],
   "source": [
    "col_names = [\"duration\",\"protocol_type\",\"service\",\"flag\",\"src_bytes\",\n",
    "             \"dst_bytes\",\"land\",\"wrong_fragment\",\"urgent\",\"hot\",\"num_failed_logins\",\n",
    "             \"logged_in\",\"num_compromised\",\"root_shell\",\"su_attempted\",\"num_root\",\n",
    "             \"num_file_creations\",\"num_shells\",\"num_access_files\",\"num_outbound_cmds\",\n",
    "             \"is_host_login\",\"is_guest_login\",\"count\",\"srv_count\",\"serror_rate\",\n",
    "             \"srv_serror_rate\",\"rerror_rate\",\"srv_rerror_rate\",\"same_srv_rate\",\n",
    "             \"diff_srv_rate\",\"srv_diff_host_rate\",\"dst_host_count\",\"dst_host_srv_count\",\n",
    "             \"dst_host_same_srv_rate\",\"dst_host_diff_srv_rate\",\"dst_host_same_src_port_rate\",\n",
    "             \"dst_host_srv_diff_host_rate\",\"dst_host_serror_rate\",\"dst_host_srv_serror_rate\",\n",
    "             \"dst_host_rerror_rate\",\"dst_host_srv_rerror_rate\",\"label\",\"level\"]\n",
    "\n",
    "X_train = pd.read_csv('dataset/NSL-KDD/KDDTrain+.txt', header=None, names=col_names)\n",
    "y_train = X_train.iloc[:,-2]\n",
    "X_train = X_train.iloc[:,:-2]\n",
    "\n",
    "X_test = pd.read_csv('dataset/NSL-KDD/KDDTest+.txt', header=None, names=col_names)\n",
    "y_test = X_test.iloc[:,-2]\n",
    "X_test = X_test.iloc[:,:-2]"
   ],
   "metadata": {
    "collapsed": false
   }
  },
  {
   "cell_type": "code",
   "execution_count": 3,
   "outputs": [],
   "source": [
    "# one hot categorical data\n",
    "enc = OneHotEncoder(categories=[X_train.protocol_type.unique(),X_train.service.unique(),X_train.flag.unique()])\n",
    "X_train_enc = pd.DataFrame(enc.fit_transform(X_train.iloc[:,1:4]).toarray())\n",
    "X_test_enc = pd.DataFrame(enc.fit_transform(X_test.iloc[:,1:4]).toarray())\n",
    "\n",
    "X_train_enc.columns = X_train_enc.columns.astype(str)\n",
    "X_test_enc.columns = X_test_enc.columns.astype(str)"
   ],
   "metadata": {
    "collapsed": false
   }
  },
  {
   "cell_type": "code",
   "execution_count": 4,
   "outputs": [],
   "source": [
    "# join back to original\n",
    "X_train = X_train.drop(columns=[\"protocol_type\",\"service\",\"flag\"], axis=1)\n",
    "X_test = X_test.drop(columns=[\"protocol_type\",\"service\",\"flag\"], axis=1)\n",
    "\n",
    "X_train = X_train.join(X_train_enc)\n",
    "X_test = X_test.join(X_test_enc)"
   ],
   "metadata": {
    "collapsed": false
   }
  },
  {
   "cell_type": "code",
   "execution_count": 5,
   "outputs": [],
   "source": [
    "attack_category_dict = {\n",
    "    1:['apache2','back','land','neptune','mailbomb','pod','processtable','smurf','teardrop','udpstorm','worm'], #dos\n",
    "    2:['ipsweep','mscan','nmap','portsweep','saint','satan'], #u2r\n",
    "    3:['buffer_overflow','loadmodule','perl','ps','rootkit','sqlattack','xterm'], #r2l\n",
    "    4:['ftp_write','guess_passwd','httptunnel','imap','multihop','named','phf','sendmail','snmpgetattack','spy','snmpguess','warezclient','warezmaster','xlock','xsnoop'] #probe\n",
    "}"
   ],
   "metadata": {
    "collapsed": false
   }
  },
  {
   "cell_type": "code",
   "execution_count": 6,
   "outputs": [],
   "source": [
    "def get_key_from_value(value):\n",
    "    if value == 'normal':\n",
    "        return 0\n",
    "\n",
    "    for key, vals in attack_category_dict.items():\n",
    "        if value in vals:\n",
    "            return key\n",
    "\n",
    "y_train = y_train.apply(get_key_from_value)\n",
    "y_test = y_test.apply(get_key_from_value)"
   ],
   "metadata": {
    "collapsed": false
   }
  },
  {
   "cell_type": "code",
   "execution_count": 7,
   "outputs": [],
   "source": [
    "pipe = make_pipeline(StandardScaler(), RandomForestClassifier(n_estimators=10000), verbose=True)"
   ],
   "metadata": {
    "collapsed": false
   }
  },
  {
   "cell_type": "code",
   "execution_count": null,
   "outputs": [
    {
     "name": "stdout",
     "output_type": "stream",
     "text": [
      "[Pipeline] .... (step 1 of 2) Processing standardscaler, total=   0.2s\n"
     ]
    }
   ],
   "source": [
    "pipe.fit(X_train, y_train)"
   ],
   "metadata": {
    "collapsed": false,
    "pycharm": {
     "is_executing": true
    }
   }
  },
  {
   "cell_type": "code",
   "execution_count": null,
   "outputs": [],
   "source": [
    "pipe.score(X_test, y_test)"
   ],
   "metadata": {
    "collapsed": false,
    "pycharm": {
     "is_executing": true
    }
   }
  }
 ],
 "metadata": {
  "kernelspec": {
   "display_name": "Python 3",
   "language": "python",
   "name": "python3"
  },
  "language_info": {
   "codemirror_mode": {
    "name": "ipython",
    "version": 2
   },
   "file_extension": ".py",
   "mimetype": "text/x-python",
   "name": "python",
   "nbconvert_exporter": "python",
   "pygments_lexer": "ipython2",
   "version": "2.7.6"
  }
 },
 "nbformat": 4,
 "nbformat_minor": 0
}
