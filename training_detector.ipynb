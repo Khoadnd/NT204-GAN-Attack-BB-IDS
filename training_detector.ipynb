{
 "cells": [
  {
   "cell_type": "code",
   "execution_count": 1,
   "metadata": {
    "collapsed": false
   },
   "outputs": [],
   "source": [
    "import pandas as pd\n",
    "from sklearn.ensemble import ExtraTreesClassifier, RandomForestClassifier, BaggingClassifier, StackingClassifier, VotingClassifier\n",
    "from sklearn.model_selection import train_test_split\n",
    "import xgboost as xgb"
   ]
  },
  {
   "cell_type": "markdown",
   "metadata": {
    "collapsed": false
   },
   "source": [
    "# Load dataset"
   ]
  },
  {
   "cell_type": "code",
   "execution_count": 2,
   "metadata": {
    "collapsed": false
   },
   "outputs": [],
   "source": [
    "X = pd.read_feather('dataset/train.feather')\n",
    "y = X.iloc[:,-1]\n",
    "X = X.iloc[:,:-1]\n",
    "\n",
    "X_train, X_test, y_train, y_test = train_test_split(X, y, random_state=42, test_size=0.25, stratify=y)"
   ]
  },
  {
   "cell_type": "markdown",
   "metadata": {
    "collapsed": false
   },
   "source": [
    "# Train and test Machine Learning models"
   ]
  },
  {
   "cell_type": "code",
   "execution_count": 3,
   "metadata": {
    "collapsed": false
   },
   "outputs": [
    {
     "name": "stderr",
     "output_type": "stream",
     "text": [
      "/home/khoa/khoa/.local/lib/python3.10/site-packages/xgboost/core.py:617: FutureWarning: Pass `objective, use_label_encoder` as keyword args.\n",
      "  warnings.warn(msg, FutureWarning)\n",
      "/home/khoa/khoa/.local/lib/python3.10/site-packages/xgboost/sklearn.py:1395: UserWarning: `use_label_encoder` is deprecated in 1.7.0.\n",
      "  warnings.warn(\"`use_label_encoder` is deprecated in 1.7.0.\")\n"
     ]
    }
   ],
   "source": [
    "clf1 = ExtraTreesClassifier(n_jobs=-1, n_estimators=1000, criterion='entropy')\n",
    "clf2 = RandomForestClassifier(\n",
    "    n_jobs=-1, n_estimators=1000, criterion='entropy')\n",
    "\n",
    "param = {'max_depth':0}\n",
    "clf3 = xgb.XGBClassifier(param, 1000, objective='multi:softmax')\n"
   ]
  },
  {
   "cell_type": "code",
   "execution_count": 4,
   "metadata": {
    "collapsed": false
   },
   "outputs": [],
   "source": [
    "clf1.fit(X_train, y_train)\n",
    "clf2.fit(X_train, y_train)\n",
    "clf3.fit(X_train, y_train)"
   ]
  },
  {
   "cell_type": "code",
   "execution_count": null,
   "metadata": {
    "collapsed": false
   },
   "outputs": [
    {
     "data": {
      "text/plain": [
       "0.9988886772083572"
      ]
     },
     "metadata": {},
     "output_type": "display_data"
    },
    {
     "data": {
      "text/plain": [
       "0.9985394043309836"
      ]
     },
     "metadata": {},
     "output_type": "display_data"
    },
    {
     "data": {
      "text/plain": [
       "0.9986981647297898"
      ]
     },
     "metadata": {},
     "output_type": "display_data"
    }
   ],
   "source": [
    "display(clf1.score(X_test, y_test), clf2.score(X_test, y_test), clf3.score(X_test, y_test))"
   ]
  },
  {
   "cell_type": "code",
   "execution_count": null,
   "metadata": {
    "collapsed": false
   },
   "outputs": [],
   "source": [
    "# Save trained model\n",
    "\n",
    "import pickle\n",
    "\n",
    "with open('models/ExtraTrees.pickle', 'wb') as handle:\n",
    "    pickle.dump(clf1, handle)\n",
    "\n",
    "with open('models/RandomForest.pickle', 'wb') as handle:\n",
    "    pickle.dump(clf2, handle)\n",
    "\n",
    "with open('models/XGBoost.pickle', 'wb') as handle:\n",
    "    pickle.dump(clf3, handle)"
   ]
  },
  {
   "cell_type": "code",
   "execution_count": null,
   "metadata": {
    "collapsed": false
   },
   "outputs": [
    {
     "data": {
      "text/plain": [
       "0.9988886772083572"
      ]
     },
     "metadata": {},
     "output_type": "display_data"
    },
    {
     "data": {
      "text/plain": [
       "0.9985394043309836"
      ]
     },
     "metadata": {},
     "output_type": "display_data"
    },
    {
     "data": {
      "text/plain": [
       "0.9986981647297898"
      ]
     },
     "metadata": {},
     "output_type": "display_data"
    }
   ],
   "source": [
    "# test saved model\n",
    "\n",
    "with open('models/ExtraTrees.pickle', 'rb') as handle:\n",
    "    clf_et = pickle.load(handle)\n",
    "\n",
    "with open('models/RandomForest.pickle', 'rb') as handle:\n",
    "    clf_rf = pickle.load(handle)\n",
    "\n",
    "with open('models/XGBoost.pickle', 'rb') as handle:\n",
    "    clf_xgb = pickle.load(handle)\n",
    "\n",
    "display(clf_et.score(X_test, y_test), clf_rf.score(X_test, y_test), clf_xgb.score(X_test, y_test))"
   ]
  }
 ],
 "metadata": {
  "kernelspec": {
   "display_name": "Python 3",
   "language": "python",
   "name": "python3"
  },
  "language_info": {
   "codemirror_mode": {
    "name": "ipython",
    "version": 3
   },
   "file_extension": ".py",
   "mimetype": "text/x-python",
   "name": "python",
   "nbconvert_exporter": "python",
   "pygments_lexer": "ipython3",
   "version": "3.10.10"
  }
 },
 "nbformat": 4,
 "nbformat_minor": 0
}
