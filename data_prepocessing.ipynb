{
 "cells": [
  {
   "cell_type": "code",
   "execution_count": 1,
   "metadata": {
    "collapsed": true
   },
   "outputs": [],
   "source": [
    "import pandas as pd\n",
    "from sklearn.preprocessing import StandardScaler, OneHotEncoder, Normalizer, QuantileTransformer, MinMaxScaler\n",
    "from const import *"
   ]
  },
  {
   "cell_type": "code",
   "execution_count": 2,
   "metadata": {
    "collapsed": false
   },
   "outputs": [],
   "source": [
    "X_train = pd.read_csv('dataset/NSL-KDD/KDDTrain+.txt', header=None, names=col_names_org)\n",
    "y_train = X_train.iloc[:,-2]\n",
    "X_train = X_train.iloc[:,:-2]\n",
    "\n",
    "X_test = pd.read_csv('dataset/NSL-KDD/KDDTest+.txt', header=None, names=col_names_org)\n",
    "y_test = X_test.iloc[:,-2]\n",
    "X_test = X_test.iloc[:,:-2]"
   ]
  },
  {
   "cell_type": "code",
   "execution_count": null,
   "metadata": {},
   "outputs": [],
   "source": []
  },
  {
   "cell_type": "code",
   "execution_count": 3,
   "metadata": {
    "collapsed": false
   },
   "outputs": [],
   "source": [
    "# one hot categorical data\n",
    "X_train_enc = X_train.iloc[:,1:4]\n",
    "X_test_enc = X_test.iloc[:,1:4]\n",
    "\n",
    "enc = OneHotEncoder(categories=[X_train.protocol_type.unique(),X_train.service.unique(),X_train.flag.unique()])\n",
    "enc = enc.fit(X_train_enc)\n",
    "transformed_features = enc.get_feature_names_out()\n",
    "\n",
    "X_train_enc = pd.DataFrame(enc.transform(X_train_enc).toarray(), columns=transformed_features)\n",
    "X_test_enc = pd.DataFrame(enc.transform(X_test_enc).toarray(), columns=transformed_features)"
   ]
  },
  {
   "cell_type": "code",
   "execution_count": 4,
   "metadata": {
    "collapsed": false
   },
   "outputs": [],
   "source": [
    "# Scale data\n",
    "X_train_scale = X_train.drop(columns=features_binary + features_category, axis=1)\n",
    "X_test_scale = X_test.drop(columns=features_binary + features_category, axis=1)\n",
    "\n",
    "# scaler = StandardScaler()\n",
    "# scaler = MinMaxScaler((-1, 1)) # best so far\n",
    "scaler = Normalizer()\n",
    "scaler = scaler.fit(X_train_scale)\n",
    "scaled_features = scaler.get_feature_names_out()\n",
    "\n",
    "X_train_scale = pd.DataFrame(scaler.transform(X_train_scale), columns=scaled_features)\n",
    "X_test_scale = pd.DataFrame(scaler.transform(X_test_scale), columns=scaled_features)"
   ]
  },
  {
   "cell_type": "code",
   "execution_count": 5,
   "metadata": {
    "collapsed": false
   },
   "outputs": [],
   "source": [
    "# Binary data\n",
    "X_train_bin = X_train.loc[:, features_binary]\n",
    "X_test_bin = X_test.loc[:, features_binary]"
   ]
  },
  {
   "cell_type": "code",
   "execution_count": 6,
   "metadata": {
    "collapsed": false
   },
   "outputs": [],
   "source": [
    "# Join back to main data\n",
    "X_train = X_train_bin.join([X_train_scale, X_train_enc])\n",
    "X_test = X_test_bin.join([X_test_scale, X_test_enc])"
   ]
  },
  {
   "cell_type": "code",
   "execution_count": 7,
   "metadata": {
    "collapsed": false
   },
   "outputs": [],
   "source": [
    "def get_key_from_value(value):\n",
    "    if value == 'normal':\n",
    "        return 0\n",
    "\n",
    "    for key, vals in attack_category_dict.items():\n",
    "        if value in vals:\n",
    "            return key\n",
    "\n",
    "y_train = y_train.apply(get_key_from_value)\n",
    "y_test = y_test.apply(get_key_from_value)"
   ]
  },
  {
   "cell_type": "code",
   "execution_count": 8,
   "metadata": {
    "collapsed": false
   },
   "outputs": [],
   "source": [
    "X_train = X_train.join(y_train)\n",
    "X_test = X_test.join(y_test)\n",
    "\n",
    "X_train.to_csv('dataset/train.csv', index=False)\n",
    "X_test.to_csv('dataset/test.csv', index=False)"
   ]
  },
  {
   "cell_type": "code",
   "execution_count": 9,
   "metadata": {
    "collapsed": false
   },
   "outputs": [],
   "source": [
    "X_train.to_feather('dataset/train.feather')\n",
    "X_test.to_feather('dataset/test.feather')"
   ]
  }
 ],
 "metadata": {
  "kernelspec": {
   "display_name": "Python 3",
   "language": "python",
   "name": "python3"
  },
  "language_info": {
   "codemirror_mode": {
    "name": "ipython",
    "version": 3
   },
   "file_extension": ".py",
   "mimetype": "text/x-python",
   "name": "python",
   "nbconvert_exporter": "python",
   "pygments_lexer": "ipython3",
   "version": "3.11.3"
  }
 },
 "nbformat": 4,
 "nbformat_minor": 0
}
