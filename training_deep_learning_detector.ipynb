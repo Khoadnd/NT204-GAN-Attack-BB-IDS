{
 "cells": [
  {
   "cell_type": "markdown",
   "source": [
    "# Read dataset"
   ],
   "metadata": {
    "collapsed": false
   }
  },
  {
   "cell_type": "code",
   "execution_count": 1,
   "outputs": [],
   "source": [
    "import pandas as pd\n",
    "from sklearn.model_selection import train_test_split"
   ],
   "metadata": {
    "collapsed": false
   }
  },
  {
   "cell_type": "code",
   "execution_count": 2,
   "outputs": [],
   "source": [
    "X = pd.read_feather('/dataset/train.feather')\n",
    "y = X.iloc[:,-1]\n",
    "X = X.iloc[:,:-1]\n",
    "\n",
    "X_train, X_test, y_train, y_test = train_test_split(X, y, random_state=42, test_size=0.25, stratify=y)\n",
    "\n",
    "input_shape = X_train.shape[1]\n",
    "output_shape = 5"
   ],
   "metadata": {
    "collapsed": false
   }
  },
  {
   "cell_type": "markdown",
   "source": [
    "# Define models"
   ],
   "metadata": {
    "collapsed": false
   }
  },
  {
   "cell_type": "markdown",
   "source": [
    "## DNN"
   ],
   "metadata": {
    "collapsed": false
   }
  },
  {
   "cell_type": "code",
   "execution_count": 3,
   "outputs": [],
   "source": [
    "import tensorflow as tf\n",
    "\n",
    "clf_dnn = tf.keras.models.Sequential(\n",
    "    [\n",
    "        tf.keras.layers.Input(shape=(input_shape,)),\n",
    "        tf.keras.layers.BatchNormalization(),\n",
    "        tf.keras.layers.Dense(128),\n",
    "        tf.keras.layers.LeakyReLU(),\n",
    "\n",
    "        tf.keras.layers.BatchNormalization(),\n",
    "        tf.keras.layers.Dropout(0.3),\n",
    "        tf.keras.layers.Dense(128),\n",
    "        tf.keras.layers.LeakyReLU(),\n",
    "\n",
    "        tf.keras.layers.BatchNormalization(),\n",
    "        tf.keras.layers.Dropout(0.2),\n",
    "        tf.keras.layers.Dense(128),\n",
    "        tf.keras.layers.LeakyReLU(),\n",
    "\n",
    "        tf.keras.layers.BatchNormalization(),\n",
    "        tf.keras.layers.Dropout(0.1),\n",
    "        tf.keras.layers.Dense(output_shape, activation='softmax')\n",
    "    ],\n",
    "    name='DNN'\n",
    ")\n",
    "\n",
    "clf_dnn.compile(\n",
    "    loss='sparse_categorical_crossentropy',\n",
    "    optimizer=tf.keras.optimizers.Adam(learning_rate=2e-3),\n",
    "    metrics=['accuracy']\n",
    ")"
   ],
   "metadata": {
    "collapsed": false
   }
  },
  {
   "cell_type": "code",
   "execution_count": 4,
   "outputs": [
    {
     "name": "stdout",
     "output_type": "stream",
     "text": [
      "Epoch 1/100\n",
      "2953/2953 [==============================] - 14s 4ms/step - loss: 0.0960 - accuracy: 0.9709\n",
      "Epoch 2/100\n",
      "2953/2953 [==============================] - 13s 4ms/step - loss: 0.0537 - accuracy: 0.9828\n",
      "Epoch 3/100\n",
      "2953/2953 [==============================] - 13s 4ms/step - loss: 0.0446 - accuracy: 0.9860\n",
      "Epoch 4/100\n",
      "2953/2953 [==============================] - 13s 4ms/step - loss: 0.0373 - accuracy: 0.9884\n",
      "Epoch 5/100\n",
      "2953/2953 [==============================] - 13s 4ms/step - loss: 0.0329 - accuracy: 0.9903\n",
      "Epoch 6/100\n",
      "2953/2953 [==============================] - 13s 4ms/step - loss: 0.0296 - accuracy: 0.9912\n",
      "Epoch 7/100\n",
      "2953/2953 [==============================] - 13s 4ms/step - loss: 0.0296 - accuracy: 0.9915\n",
      "Epoch 8/100\n",
      "2953/2953 [==============================] - 13s 4ms/step - loss: 0.0274 - accuracy: 0.9924\n",
      "Epoch 9/100\n",
      "2953/2953 [==============================] - 13s 4ms/step - loss: 0.0255 - accuracy: 0.9928\n",
      "Epoch 10/100\n",
      "2953/2953 [==============================] - 12s 4ms/step - loss: 0.0254 - accuracy: 0.9927\n",
      "Epoch 11/100\n",
      "2953/2953 [==============================] - 13s 5ms/step - loss: 0.0247 - accuracy: 0.9929\n",
      "Epoch 12/100\n",
      "2953/2953 [==============================] - 14s 5ms/step - loss: 0.0243 - accuracy: 0.9934\n",
      "Epoch 13/100\n",
      "2953/2953 [==============================] - 14s 5ms/step - loss: 0.0231 - accuracy: 0.9936\n",
      "Epoch 14/100\n",
      "2953/2953 [==============================] - 13s 4ms/step - loss: 0.0234 - accuracy: 0.9935\n",
      "Epoch 15/100\n",
      "2953/2953 [==============================] - 14s 5ms/step - loss: 0.0228 - accuracy: 0.9939\n",
      "Epoch 16/100\n",
      "2953/2953 [==============================] - 13s 5ms/step - loss: 0.0219 - accuracy: 0.9939\n",
      "Epoch 17/100\n",
      "2953/2953 [==============================] - 13s 4ms/step - loss: 0.0218 - accuracy: 0.9940\n",
      "Epoch 18/100\n",
      "2953/2953 [==============================] - 13s 4ms/step - loss: 0.0208 - accuracy: 0.9942\n",
      "Epoch 19/100\n",
      "2953/2953 [==============================] - 13s 5ms/step - loss: 0.0209 - accuracy: 0.9944\n",
      "Epoch 20/100\n",
      "2953/2953 [==============================] - 13s 5ms/step - loss: 0.0209 - accuracy: 0.9945\n",
      "Epoch 21/100\n",
      "2953/2953 [==============================] - 13s 4ms/step - loss: 0.0214 - accuracy: 0.9941\n",
      "Epoch 22/100\n",
      "2953/2953 [==============================] - 13s 4ms/step - loss: 0.0201 - accuracy: 0.9944\n",
      "Epoch 23/100\n",
      "2953/2953 [==============================] - 13s 4ms/step - loss: 0.0206 - accuracy: 0.9946\n",
      "Epoch 24/100\n",
      "2953/2953 [==============================] - 13s 4ms/step - loss: 0.0201 - accuracy: 0.9945\n",
      "Epoch 25/100\n",
      "2953/2953 [==============================] - 13s 5ms/step - loss: 0.0210 - accuracy: 0.9943\n",
      "Epoch 26/100\n",
      "2953/2953 [==============================] - 13s 4ms/step - loss: 0.0201 - accuracy: 0.9946\n",
      "Epoch 27/100\n",
      "2953/2953 [==============================] - 13s 4ms/step - loss: 0.0189 - accuracy: 0.9947\n",
      "Epoch 28/100\n",
      "2953/2953 [==============================] - 13s 4ms/step - loss: 0.0198 - accuracy: 0.9946\n",
      "Epoch 29/100\n",
      "2953/2953 [==============================] - 13s 4ms/step - loss: 0.0207 - accuracy: 0.9942\n",
      "Epoch 30/100\n",
      "2953/2953 [==============================] - 13s 4ms/step - loss: 0.0193 - accuracy: 0.9947\n",
      "Epoch 31/100\n",
      "2953/2953 [==============================] - 13s 4ms/step - loss: 0.0188 - accuracy: 0.9947\n",
      "Epoch 32/100\n",
      "2953/2953 [==============================] - 12s 4ms/step - loss: 0.0190 - accuracy: 0.9948\n",
      "Epoch 33/100\n",
      "2953/2953 [==============================] - 12s 4ms/step - loss: 0.0189 - accuracy: 0.9949\n",
      "Epoch 34/100\n",
      "2953/2953 [==============================] - 12s 4ms/step - loss: 0.0187 - accuracy: 0.9948\n",
      "Epoch 35/100\n",
      "2953/2953 [==============================] - 12s 4ms/step - loss: 0.0185 - accuracy: 0.9948\n",
      "Epoch 36/100\n",
      "2953/2953 [==============================] - 13s 4ms/step - loss: 0.0186 - accuracy: 0.9948\n",
      "Epoch 37/100\n",
      "2953/2953 [==============================] - 12s 4ms/step - loss: 0.0186 - accuracy: 0.9948\n",
      "Epoch 38/100\n",
      "2953/2953 [==============================] - 12s 4ms/step - loss: 0.0179 - accuracy: 0.9952\n",
      "Epoch 39/100\n",
      "2953/2953 [==============================] - 12s 4ms/step - loss: 0.0176 - accuracy: 0.9951\n",
      "Epoch 40/100\n",
      "2953/2953 [==============================] - 12s 4ms/step - loss: 0.0182 - accuracy: 0.9949\n",
      "Epoch 41/100\n",
      "2953/2953 [==============================] - 13s 4ms/step - loss: 0.0179 - accuracy: 0.9951\n",
      "Epoch 42/100\n",
      "2953/2953 [==============================] - 13s 4ms/step - loss: 0.0179 - accuracy: 0.9951\n",
      "Epoch 43/100\n",
      "2953/2953 [==============================] - 11s 4ms/step - loss: 0.0181 - accuracy: 0.9950\n",
      "Epoch 44/100\n",
      "2953/2953 [==============================] - 11s 4ms/step - loss: 0.0180 - accuracy: 0.9950\n",
      "Epoch 45/100\n",
      "2953/2953 [==============================] - 12s 4ms/step - loss: 0.0173 - accuracy: 0.9952\n",
      "Epoch 46/100\n",
      "2953/2953 [==============================] - 13s 4ms/step - loss: 0.0174 - accuracy: 0.9955\n",
      "Epoch 47/100\n",
      "2953/2953 [==============================] - 13s 4ms/step - loss: 0.0177 - accuracy: 0.9951\n",
      "Epoch 48/100\n",
      "2953/2953 [==============================] - 13s 4ms/step - loss: 0.0176 - accuracy: 0.9952\n",
      "Epoch 49/100\n",
      "2953/2953 [==============================] - 13s 4ms/step - loss: 0.0181 - accuracy: 0.9950\n",
      "Epoch 50/100\n",
      "2953/2953 [==============================] - 12s 4ms/step - loss: 0.0176 - accuracy: 0.9951\n",
      "Epoch 51/100\n",
      "2953/2953 [==============================] - 13s 4ms/step - loss: 0.0174 - accuracy: 0.9953\n",
      "Epoch 52/100\n",
      "2953/2953 [==============================] - 13s 4ms/step - loss: 0.0169 - accuracy: 0.9952\n",
      "Epoch 53/100\n",
      "2953/2953 [==============================] - 12s 4ms/step - loss: 0.0171 - accuracy: 0.9953\n",
      "Epoch 54/100\n",
      "2953/2953 [==============================] - 13s 4ms/step - loss: 0.0168 - accuracy: 0.9952\n",
      "Epoch 55/100\n",
      "2953/2953 [==============================] - 13s 4ms/step - loss: 0.0170 - accuracy: 0.9952\n",
      "Epoch 56/100\n",
      "2953/2953 [==============================] - 13s 4ms/step - loss: 0.0174 - accuracy: 0.9953\n",
      "Epoch 57/100\n",
      "2953/2953 [==============================] - 13s 4ms/step - loss: 0.0174 - accuracy: 0.9954\n",
      "Epoch 58/100\n",
      "2953/2953 [==============================] - 13s 4ms/step - loss: 0.0169 - accuracy: 0.9954\n",
      "Epoch 59/100\n",
      "2953/2953 [==============================] - 12s 4ms/step - loss: 0.0170 - accuracy: 0.9954\n",
      "Epoch 60/100\n",
      "2953/2953 [==============================] - 13s 4ms/step - loss: 0.0167 - accuracy: 0.9954\n",
      "Epoch 61/100\n",
      "2953/2953 [==============================] - 13s 4ms/step - loss: 0.0162 - accuracy: 0.9956\n",
      "Epoch 62/100\n",
      "2953/2953 [==============================] - 13s 4ms/step - loss: 0.0168 - accuracy: 0.9952\n",
      "Epoch 63/100\n",
      "2953/2953 [==============================] - 12s 4ms/step - loss: 0.0161 - accuracy: 0.9954\n",
      "Epoch 64/100\n",
      "2953/2953 [==============================] - 13s 4ms/step - loss: 0.0161 - accuracy: 0.9955\n",
      "Epoch 65/100\n",
      "2953/2953 [==============================] - 13s 4ms/step - loss: 0.0161 - accuracy: 0.9956\n",
      "Epoch 66/100\n",
      "2953/2953 [==============================] - 13s 4ms/step - loss: 0.0167 - accuracy: 0.9954\n",
      "Epoch 67/100\n",
      "2953/2953 [==============================] - 13s 4ms/step - loss: 0.0157 - accuracy: 0.9956\n",
      "Epoch 68/100\n",
      "2953/2953 [==============================] - 12s 4ms/step - loss: 0.0163 - accuracy: 0.9953\n",
      "Epoch 69/100\n",
      "2953/2953 [==============================] - 13s 4ms/step - loss: 0.0159 - accuracy: 0.9956\n",
      "Epoch 70/100\n",
      "2953/2953 [==============================] - 13s 4ms/step - loss: 0.0166 - accuracy: 0.9956\n",
      "Epoch 71/100\n",
      "2953/2953 [==============================] - 13s 4ms/step - loss: 0.0163 - accuracy: 0.9956\n",
      "Epoch 72/100\n",
      "2953/2953 [==============================] - 12s 4ms/step - loss: 0.0159 - accuracy: 0.9956\n",
      "Epoch 73/100\n",
      "2953/2953 [==============================] - 12s 4ms/step - loss: 0.0167 - accuracy: 0.9955\n",
      "Epoch 74/100\n",
      "2953/2953 [==============================] - 13s 4ms/step - loss: 0.0157 - accuracy: 0.9955\n",
      "Epoch 75/100\n",
      "2953/2953 [==============================] - 12s 4ms/step - loss: 0.0161 - accuracy: 0.9955\n",
      "Epoch 76/100\n",
      "2953/2953 [==============================] - 12s 4ms/step - loss: 0.0160 - accuracy: 0.9958\n",
      "Epoch 77/100\n",
      "2953/2953 [==============================] - 13s 4ms/step - loss: 0.0159 - accuracy: 0.9957\n",
      "Epoch 78/100\n",
      "2953/2953 [==============================] - 13s 4ms/step - loss: 0.0151 - accuracy: 0.9960\n",
      "Epoch 79/100\n",
      "2953/2953 [==============================] - 13s 4ms/step - loss: 0.0160 - accuracy: 0.9955\n",
      "Epoch 80/100\n",
      "2953/2953 [==============================] - 13s 4ms/step - loss: 0.0159 - accuracy: 0.9956\n",
      "Epoch 81/100\n",
      "2953/2953 [==============================] - 13s 4ms/step - loss: 0.0162 - accuracy: 0.9955\n",
      "Epoch 82/100\n",
      "2953/2953 [==============================] - 12s 4ms/step - loss: 0.0157 - accuracy: 0.9958\n",
      "Epoch 83/100\n",
      "2953/2953 [==============================] - 13s 4ms/step - loss: 0.0154 - accuracy: 0.9956\n",
      "Epoch 84/100\n",
      "2953/2953 [==============================] - 13s 4ms/step - loss: 0.0151 - accuracy: 0.9958\n",
      "Epoch 85/100\n",
      "2953/2953 [==============================] - 12s 4ms/step - loss: 0.0159 - accuracy: 0.9958\n",
      "Epoch 86/100\n",
      "2953/2953 [==============================] - 13s 4ms/step - loss: 0.0146 - accuracy: 0.9959\n",
      "Epoch 87/100\n",
      "2953/2953 [==============================] - 13s 4ms/step - loss: 0.0158 - accuracy: 0.9958\n",
      "Epoch 88/100\n",
      "2953/2953 [==============================] - 12s 4ms/step - loss: 0.0152 - accuracy: 0.9960\n",
      "Epoch 89/100\n",
      "2953/2953 [==============================] - 12s 4ms/step - loss: 0.0157 - accuracy: 0.9955\n",
      "Epoch 90/100\n",
      "2953/2953 [==============================] - 13s 4ms/step - loss: 0.0153 - accuracy: 0.9957\n",
      "Epoch 91/100\n",
      "2953/2953 [==============================] - 13s 4ms/step - loss: 0.0157 - accuracy: 0.9958\n",
      "Epoch 92/100\n",
      "2953/2953 [==============================] - 12s 4ms/step - loss: 0.0148 - accuracy: 0.9961\n",
      "Epoch 93/100\n",
      "2953/2953 [==============================] - 13s 4ms/step - loss: 0.0152 - accuracy: 0.9956\n",
      "Epoch 94/100\n",
      "2953/2953 [==============================] - 12s 4ms/step - loss: 0.0147 - accuracy: 0.9959\n",
      "Epoch 95/100\n",
      "2953/2953 [==============================] - 12s 4ms/step - loss: 0.0149 - accuracy: 0.9960\n",
      "Epoch 96/100\n",
      "2953/2953 [==============================] - 12s 4ms/step - loss: 0.0155 - accuracy: 0.9960\n",
      "Epoch 97/100\n",
      "2953/2953 [==============================] - 12s 4ms/step - loss: 0.0156 - accuracy: 0.9958\n",
      "Epoch 98/100\n",
      "2953/2953 [==============================] - 13s 4ms/step - loss: 0.0150 - accuracy: 0.9958\n",
      "Epoch 99/100\n",
      "2953/2953 [==============================] - 13s 4ms/step - loss: 0.0150 - accuracy: 0.9960\n",
      "Epoch 100/100\n",
      "2953/2953 [==============================] - 12s 4ms/step - loss: 0.0154 - accuracy: 0.9958\n"
     ]
    },
    {
     "data": {
      "text/plain": "<keras.callbacks.History at 0x7fdfec37f1f0>"
     },
     "execution_count": 4,
     "metadata": {},
     "output_type": "execute_result"
    }
   ],
   "source": [
    "clf_dnn.fit(X_train, y_train, verbose=1, epochs=100)"
   ],
   "metadata": {
    "collapsed": false
   }
  },
  {
   "cell_type": "code",
   "execution_count": 5,
   "outputs": [
    {
     "name": "stdout",
     "output_type": "stream",
     "text": [
      "985/985 [==============================] - 2s 2ms/step - loss: 0.0382 - accuracy: 0.9943\n"
     ]
    },
    {
     "data": {
      "text/plain": "[0.038167886435985565, 0.9942528605461121]"
     },
     "execution_count": 5,
     "metadata": {},
     "output_type": "execute_result"
    }
   ],
   "source": [
    "clf_dnn.evaluate(X_test,y_test)"
   ],
   "metadata": {
    "collapsed": false
   }
  },
  {
   "cell_type": "code",
   "execution_count": 6,
   "outputs": [],
   "source": [
    "X_test_plus = pd.read_feather('/dataset/test+.feather')\n",
    "y_test_plus = X_test_plus.iloc[:,-1]\n",
    "X_test_plus = X_test_plus.iloc[:,:-1]"
   ],
   "metadata": {
    "collapsed": false
   }
  },
  {
   "cell_type": "code",
   "execution_count": 7,
   "outputs": [
    {
     "name": "stdout",
     "output_type": "stream",
     "text": [
      "705/705 [==============================] - 1s 2ms/step - loss: 3.3002 - accuracy: 0.7445\n"
     ]
    },
    {
     "data": {
      "text/plain": "[3.300159454345703, 0.7445440292358398]"
     },
     "execution_count": 7,
     "metadata": {},
     "output_type": "execute_result"
    }
   ],
   "source": [
    "clf_dnn.evaluate(X_test_plus, y_test_plus)"
   ],
   "metadata": {
    "collapsed": false
   }
  },
  {
   "cell_type": "code",
   "execution_count": 8,
   "outputs": [],
   "source": [
    "clf_dnn.save('/dataset/DNN.h5')"
   ],
   "metadata": {
    "collapsed": false
   }
  }
 ],
 "metadata": {
  "kernelspec": {
   "display_name": "Python 3",
   "language": "python",
   "name": "python3"
  },
  "language_info": {
   "codemirror_mode": {
    "name": "ipython",
    "version": 3
   },
   "file_extension": ".py",
   "mimetype": "text/x-python",
   "name": "python",
   "nbconvert_exporter": "python",
   "pygments_lexer": "ipython3",
   "version": "3.8.10"
  }
 },
 "nbformat": 4,
 "nbformat_minor": 0
}
