{
 "cells": [
  {
   "attachments": {},
   "cell_type": "markdown",
   "metadata": {
    "collapsed": false
   },
   "source": [
    "# Read dataset"
   ]
  },
  {
   "cell_type": "code",
   "execution_count": 1,
   "metadata": {
    "collapsed": false
   },
   "outputs": [],
   "source": [
    "import pandas as pd\n",
    "from sklearn.model_selection import train_test_split"
   ]
  },
  {
   "cell_type": "code",
   "execution_count": 2,
   "metadata": {
    "collapsed": false
   },
   "outputs": [],
   "source": [
    "X = pd.read_csv('dataset/train_content_feature.csv')\n",
    "y = X.iloc[:,-1]\n",
    "X = X.iloc[:,:-1]\n",
    "\n",
    "X_train, X_test, y_train, y_test = train_test_split(X, y, random_state=42, test_size=0.25, stratify=y)\n",
    "\n",
    "input_shape = X_train.shape[1]\n",
    "output_shape = 5"
   ]
  },
  {
   "attachments": {},
   "cell_type": "markdown",
   "metadata": {
    "collapsed": false
   },
   "source": [
    "# Define models"
   ]
  },
  {
   "attachments": {},
   "cell_type": "markdown",
   "metadata": {
    "collapsed": false
   },
   "source": [
    "## DNN"
   ]
  },
  {
   "cell_type": "code",
   "execution_count": 3,
   "metadata": {
    "collapsed": false
   },
   "outputs": [
    {
     "name": "stderr",
     "output_type": "stream",
     "text": [
      "2023-05-20 13:57:22.036790: I tensorflow/core/platform/cpu_feature_guard.cc:182] This TensorFlow binary is optimized to use available CPU instructions in performance-critical operations.\n",
      "To enable the following instructions: SSE3 SSE4.1 SSE4.2 AVX AVX2 FMA, in other operations, rebuild TensorFlow with the appropriate compiler flags.\n",
      "/usr/lib/python3.11/site-packages/h5py/__init__.py:36: UserWarning: h5py is running against HDF5 1.14.1 when it was built against 1.14.0, this may cause problems\n",
      "  _warn((\"h5py is running against HDF5 {0} when it was built against {1}, \"\n",
      "2023-05-20 13:57:24.654370: I tensorflow/core/common_runtime/process_util.cc:146] Creating new thread pool with default inter op setting: 2. Tune using inter_op_parallelism_threads for best performance.\n"
     ]
    }
   ],
   "source": [
    "import tensorflow as tf\n",
    "\n",
    "clf_dnn = tf.keras.models.Sequential(\n",
    "    [\n",
    "        tf.keras.layers.Input(shape=(input_shape,)),\n",
    "        tf.keras.layers.BatchNormalization(),\n",
    "        tf.keras.layers.Dense(8),\n",
    "        tf.keras.layers.LeakyReLU(),\n",
    "\n",
    "        tf.keras.layers.BatchNormalization(),\n",
    "        tf.keras.layers.Dropout(0.3),\n",
    "        tf.keras.layers.Dense(8),\n",
    "        tf.keras.layers.LeakyReLU(),\n",
    "\n",
    "        tf.keras.layers.BatchNormalization(),\n",
    "        tf.keras.layers.Dropout(0.2),\n",
    "        tf.keras.layers.Dense(8),\n",
    "        tf.keras.layers.LeakyReLU(),\n",
    "\n",
    "        tf.keras.layers.BatchNormalization(),\n",
    "        tf.keras.layers.Dropout(0.2),\n",
    "        tf.keras.layers.Dense(8),\n",
    "        tf.keras.layers.LeakyReLU(),\n",
    "\n",
    "        tf.keras.layers.BatchNormalization(),\n",
    "        tf.keras.layers.Dropout(0.1),\n",
    "        tf.keras.layers.Dense(output_shape, activation='softmax')\n",
    "    ],\n",
    "    name='DNN'\n",
    ")\n",
    "\n",
    "clf_dnn.compile(\n",
    "    loss='sparse_categorical_crossentropy',\n",
    "    optimizer=tf.keras.optimizers.Adam(learning_rate=2e-3),\n",
    "    metrics=['accuracy']\n",
    ")"
   ]
  },
  {
   "cell_type": "code",
   "execution_count": 4,
   "metadata": {
    "collapsed": false
   },
   "outputs": [
    {
     "name": "stdout",
     "output_type": "stream",
     "text": [
      "Epoch 1/15\n",
      "2953/2953 [==============================] - 19s 5ms/step - loss: 0.7158 - accuracy: 0.7118\n",
      "Epoch 2/15\n",
      "2953/2953 [==============================] - 11s 4ms/step - loss: 0.6511 - accuracy: 0.7344\n",
      "Epoch 3/15\n",
      "2953/2953 [==============================] - 11s 4ms/step - loss: 0.6464 - accuracy: 0.7367\n",
      "Epoch 4/15\n",
      "2953/2953 [==============================] - 14s 5ms/step - loss: 0.6442 - accuracy: 0.7352\n",
      "Epoch 5/15\n",
      "2953/2953 [==============================] - 10s 4ms/step - loss: 0.6438 - accuracy: 0.7364\n",
      "Epoch 6/15\n",
      "2953/2953 [==============================] - 11s 4ms/step - loss: 0.6441 - accuracy: 0.7358\n",
      "Epoch 7/15\n",
      "2953/2953 [==============================] - 17s 6ms/step - loss: 0.6424 - accuracy: 0.7376\n",
      "Epoch 8/15\n",
      "2953/2953 [==============================] - 9s 3ms/step - loss: 0.6429 - accuracy: 0.7361\n",
      "Epoch 9/15\n",
      "2953/2953 [==============================] - 10s 4ms/step - loss: 0.6430 - accuracy: 0.7368\n",
      "Epoch 10/15\n",
      "2953/2953 [==============================] - 10s 3ms/step - loss: 0.6426 - accuracy: 0.7373\n",
      "Epoch 11/15\n",
      "2953/2953 [==============================] - 10s 3ms/step - loss: 0.6421 - accuracy: 0.7373\n",
      "Epoch 12/15\n",
      "2953/2953 [==============================] - 10s 3ms/step - loss: 0.6418 - accuracy: 0.7367\n",
      "Epoch 13/15\n",
      "2953/2953 [==============================] - 10s 3ms/step - loss: 0.6435 - accuracy: 0.7368\n",
      "Epoch 14/15\n",
      "2953/2953 [==============================] - 11s 4ms/step - loss: 0.6425 - accuracy: 0.7363\n",
      "Epoch 15/15\n",
      "2953/2953 [==============================] - 9s 3ms/step - loss: 0.6429 - accuracy: 0.7377\n"
     ]
    },
    {
     "data": {
      "text/plain": [
       "<keras.callbacks.History at 0x7f334d146a10>"
      ]
     },
     "execution_count": 4,
     "metadata": {},
     "output_type": "execute_result"
    }
   ],
   "source": [
    "clf_dnn.fit(X_train, y_train, verbose=1, epochs=15)"
   ]
  },
  {
   "cell_type": "code",
   "execution_count": 5,
   "metadata": {
    "collapsed": false
   },
   "outputs": [
    {
     "name": "stdout",
     "output_type": "stream",
     "text": [
      "985/985 [==============================] - 4s 4ms/step - loss: 0.6400 - accuracy: 0.7382\n"
     ]
    },
    {
     "data": {
      "text/plain": [
       "[0.6399563550949097, 0.7382041215896606]"
      ]
     },
     "execution_count": 5,
     "metadata": {},
     "output_type": "execute_result"
    }
   ],
   "source": [
    "clf_dnn.evaluate(X_test,y_test)"
   ]
  },
  {
   "cell_type": "code",
   "execution_count": 6,
   "metadata": {
    "collapsed": false
   },
   "outputs": [],
   "source": [
    "X_test_plus = pd.read_csv('dataset/test_content_feature.csv')\n",
    "y_test_plus = X_test_plus.iloc[:,-1]\n",
    "X_test_plus = X_test_plus.iloc[:,:-1]"
   ]
  },
  {
   "cell_type": "code",
   "execution_count": 7,
   "metadata": {
    "collapsed": false
   },
   "outputs": [
    {
     "name": "stdout",
     "output_type": "stream",
     "text": [
      "705/705 [==============================] - 3s 4ms/step - loss: 1.2611 - accuracy: 0.6604\n"
     ]
    },
    {
     "data": {
      "text/plain": [
       "[1.2610794305801392, 0.6604418158531189]"
      ]
     },
     "execution_count": 7,
     "metadata": {},
     "output_type": "execute_result"
    }
   ],
   "source": [
    "clf_dnn.evaluate(X_test_plus, y_test_plus)"
   ]
  },
  {
   "cell_type": "code",
   "execution_count": 9,
   "metadata": {
    "collapsed": false
   },
   "outputs": [],
   "source": [
    "clf_dnn.save('models/DNN.h5')"
   ]
  }
 ],
 "metadata": {
  "kernelspec": {
   "display_name": "Python 3",
   "language": "python",
   "name": "python3"
  },
  "language_info": {
   "codemirror_mode": {
    "name": "ipython",
    "version": 3
   },
   "file_extension": ".py",
   "mimetype": "text/x-python",
   "name": "python",
   "nbconvert_exporter": "python",
   "pygments_lexer": "ipython3",
   "version": "3.11.3"
  }
 },
 "nbformat": 4,
 "nbformat_minor": 0
}
