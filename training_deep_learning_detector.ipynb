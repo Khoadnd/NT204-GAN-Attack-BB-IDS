{
 "cells": [
  {
   "attachments": {},
   "cell_type": "markdown",
   "metadata": {
    "collapsed": false
   },
   "source": [
    "# Read dataset"
   ]
  },
  {
   "cell_type": "code",
   "execution_count": 1,
   "metadata": {
    "collapsed": false
   },
   "outputs": [],
   "source": [
    "import pandas as pd\n",
    "from sklearn.model_selection import train_test_split"
   ]
  },
  {
   "cell_type": "code",
   "execution_count": 2,
   "metadata": {
    "collapsed": false
   },
   "outputs": [],
   "source": [
    "# X = pd.read_csv('dataset/train_content_feature.csv')\n",
    "X = pd.read_feather('dataset/train.feather')\n",
    "y = X.iloc[:,-1]\n",
    "X = X.iloc[:,:-1]\n",
    "\n",
    "X_train, X_test, y_train, y_test = train_test_split(X, y, random_state=42, test_size=0.25, stratify=y)\n",
    "\n",
    "input_shape = X_train.shape[1]\n",
    "output_shape = 5"
   ]
  },
  {
   "attachments": {},
   "cell_type": "markdown",
   "metadata": {
    "collapsed": false
   },
   "source": [
    "# Define models"
   ]
  },
  {
   "attachments": {},
   "cell_type": "markdown",
   "metadata": {
    "collapsed": false
   },
   "source": [
    "## DNN"
   ]
  },
  {
   "cell_type": "code",
   "execution_count": 3,
   "metadata": {
    "collapsed": false
   },
   "outputs": [
    {
     "name": "stderr",
     "output_type": "stream",
     "text": [
      "2023-05-22 15:12:37.386059: I tensorflow/core/platform/cpu_feature_guard.cc:182] This TensorFlow binary is optimized to use available CPU instructions in performance-critical operations.\n",
      "To enable the following instructions: SSE3 SSE4.1 SSE4.2 AVX AVX2 FMA, in other operations, rebuild TensorFlow with the appropriate compiler flags.\n",
      "/usr/lib/python3.11/site-packages/h5py/__init__.py:36: UserWarning: h5py is running against HDF5 1.14.1 when it was built against 1.14.0, this may cause problems\n",
      "  _warn((\"h5py is running against HDF5 {0} when it was built against {1}, \"\n",
      "2023-05-22 15:12:40.064446: I tensorflow/core/common_runtime/process_util.cc:146] Creating new thread pool with default inter op setting: 2. Tune using inter_op_parallelism_threads for best performance.\n"
     ]
    }
   ],
   "source": [
    "import tensorflow as tf\n",
    "\n",
    "clf_dnn = tf.keras.models.Sequential(\n",
    "    [\n",
    "        tf.keras.layers.Input(shape=(input_shape,)),\n",
    "        tf.keras.layers.BatchNormalization(),\n",
    "        tf.keras.layers.Dense(8),\n",
    "        tf.keras.layers.LeakyReLU(),\n",
    "\n",
    "        tf.keras.layers.BatchNormalization(),\n",
    "        tf.keras.layers.Dropout(0.3),\n",
    "        tf.keras.layers.Dense(8),\n",
    "        tf.keras.layers.LeakyReLU(),\n",
    "\n",
    "        tf.keras.layers.BatchNormalization(),\n",
    "        tf.keras.layers.Dropout(0.2),\n",
    "        tf.keras.layers.Dense(8),\n",
    "        tf.keras.layers.LeakyReLU(),\n",
    "\n",
    "        tf.keras.layers.BatchNormalization(),\n",
    "        tf.keras.layers.Dropout(0.2),\n",
    "        tf.keras.layers.Dense(8),\n",
    "        tf.keras.layers.LeakyReLU(),\n",
    "\n",
    "        tf.keras.layers.BatchNormalization(),\n",
    "        tf.keras.layers.Dropout(0.1),\n",
    "        tf.keras.layers.Dense(output_shape, activation='softmax')\n",
    "    ],\n",
    "    name='DNN'\n",
    ")\n",
    "\n",
    "clf_dnn.compile(\n",
    "    loss='sparse_categorical_crossentropy',\n",
    "    optimizer=tf.keras.optimizers.Adam(learning_rate=2e-3),\n",
    "    metrics=['accuracy']\n",
    ")"
   ]
  },
  {
   "cell_type": "code",
   "execution_count": 4,
   "metadata": {
    "collapsed": false
   },
   "outputs": [
    {
     "name": "stdout",
     "output_type": "stream",
     "text": [
      "Epoch 1/15\n",
      "2953/2953 [==============================] - 13s 3ms/step - loss: 0.2723 - accuracy: 0.9229\n",
      "Epoch 2/15\n",
      "2953/2953 [==============================] - 8s 3ms/step - loss: 0.1472 - accuracy: 0.9619\n",
      "Epoch 3/15\n",
      "2953/2953 [==============================] - 9s 3ms/step - loss: 0.1319 - accuracy: 0.9664\n",
      "Epoch 4/15\n",
      "2953/2953 [==============================] - 8s 3ms/step - loss: 0.1259 - accuracy: 0.9681\n",
      "Epoch 5/15\n",
      "2953/2953 [==============================] - 9s 3ms/step - loss: 0.1205 - accuracy: 0.9706\n",
      "Epoch 6/15\n",
      "2953/2953 [==============================] - 9s 3ms/step - loss: 0.1172 - accuracy: 0.9705\n",
      "Epoch 7/15\n",
      "2953/2953 [==============================] - 9s 3ms/step - loss: 0.1137 - accuracy: 0.9717\n",
      "Epoch 8/15\n",
      "2953/2953 [==============================] - 9s 3ms/step - loss: 0.1137 - accuracy: 0.9715\n",
      "Epoch 9/15\n",
      "2953/2953 [==============================] - 9s 3ms/step - loss: 0.1115 - accuracy: 0.9715\n",
      "Epoch 10/15\n",
      "2953/2953 [==============================] - 9s 3ms/step - loss: 0.1091 - accuracy: 0.9727\n",
      "Epoch 11/15\n",
      "2953/2953 [==============================] - 9s 3ms/step - loss: 0.1093 - accuracy: 0.9715\n",
      "Epoch 12/15\n",
      "2953/2953 [==============================] - 9s 3ms/step - loss: 0.1078 - accuracy: 0.9719\n",
      "Epoch 13/15\n",
      "2953/2953 [==============================] - 9s 3ms/step - loss: 0.1067 - accuracy: 0.9724\n",
      "Epoch 14/15\n",
      "2953/2953 [==============================] - 9s 3ms/step - loss: 0.1067 - accuracy: 0.9718\n",
      "Epoch 15/15\n",
      "2953/2953 [==============================] - 8s 3ms/step - loss: 0.1051 - accuracy: 0.9722\n"
     ]
    },
    {
     "data": {
      "text/plain": [
       "<keras.callbacks.History at 0x7fab80f7b8d0>"
      ]
     },
     "execution_count": 4,
     "metadata": {},
     "output_type": "execute_result"
    }
   ],
   "source": [
    "clf_dnn.fit(X_train, y_train, verbose=1, epochs=15)"
   ]
  },
  {
   "cell_type": "code",
   "execution_count": 5,
   "metadata": {
    "collapsed": false
   },
   "outputs": [
    {
     "name": "stdout",
     "output_type": "stream",
     "text": [
      "985/985 [==============================] - 4s 4ms/step - loss: 0.0684 - accuracy: 0.9848\n"
     ]
    },
    {
     "data": {
      "text/plain": [
       "[0.06837838143110275, 0.9848225116729736]"
      ]
     },
     "execution_count": 5,
     "metadata": {},
     "output_type": "execute_result"
    }
   ],
   "source": [
    "clf_dnn.evaluate(X_test,y_test)"
   ]
  },
  {
   "cell_type": "code",
   "execution_count": 6,
   "metadata": {
    "collapsed": false
   },
   "outputs": [],
   "source": [
    "# X_test_plus = pd.read_csv('dataset/test_content_feature.csv')\n",
    "X_test_plus = pd.read_feather('dataset/test+.feather')\n",
    "y_test_plus = X_test_plus.iloc[:,-1]\n",
    "X_test_plus = X_test_plus.iloc[:,:-1]"
   ]
  },
  {
   "cell_type": "code",
   "execution_count": 7,
   "metadata": {
    "collapsed": false
   },
   "outputs": [
    {
     "name": "stdout",
     "output_type": "stream",
     "text": [
      "705/705 [==============================] - 2s 2ms/step - loss: 1.8923 - accuracy: 0.7476\n"
     ]
    },
    {
     "data": {
      "text/plain": [
       "[1.8922953605651855, 0.7476490139961243]"
      ]
     },
     "execution_count": 7,
     "metadata": {},
     "output_type": "execute_result"
    }
   ],
   "source": [
    "clf_dnn.evaluate(X_test_plus, y_test_plus)"
   ]
  },
  {
   "cell_type": "code",
   "execution_count": 8,
   "metadata": {
    "collapsed": false
   },
   "outputs": [],
   "source": [
    "clf_dnn.save('models/DNN.h5')"
   ]
  }
 ],
 "metadata": {
  "kernelspec": {
   "display_name": "Python 3",
   "language": "python",
   "name": "python3"
  },
  "language_info": {
   "codemirror_mode": {
    "name": "ipython",
    "version": 3
   },
   "file_extension": ".py",
   "mimetype": "text/x-python",
   "name": "python",
   "nbconvert_exporter": "python",
   "pygments_lexer": "ipython3",
   "version": "3.11.3"
  }
 },
 "nbformat": 4,
 "nbformat_minor": 0
}
